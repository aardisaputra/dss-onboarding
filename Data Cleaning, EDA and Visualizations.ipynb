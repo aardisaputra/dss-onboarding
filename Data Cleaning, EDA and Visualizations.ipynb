{
 "cells": [
  {
   "cell_type": "markdown",
   "id": "3ff984e5",
   "metadata": {},
   "source": [
    "# Homework 2: Data Cleaning, EDA and Visualizations #"
   ]
  },
  {
   "cell_type": "code",
   "execution_count": 1,
   "id": "1303dd69",
   "metadata": {},
   "outputs": [],
   "source": [
    "#import any libraries that you may need here\n",
    "import matplotlib.pyplot as plt\n",
    "import seaborn as sns\n",
    "import numpy as np\n",
    "import pandas as pd"
   ]
  },
  {
   "cell_type": "markdown",
   "id": "3695afd7",
   "metadata": {},
   "source": [
    "### We would like our new consultants and mentors to not just be technically skilled but also ethical leaders in their fields. Therefore, let us go over some basic data ethics knowledge. ###"
   ]
  },
  {
   "attachments": {},
   "cell_type": "markdown",
   "id": "15eec8d5",
   "metadata": {},
   "source": [
    "## Section 1: Data Ethics\n",
    "\n",
    "### What are the different types of biases we mentioned during lecture? Pick one that you observe in yourself and describe how it may influence your decision-making."
   ]
  },
  {
   "attachments": {},
   "cell_type": "markdown",
   "id": "2f011486",
   "metadata": {},
   "source": [
    "Confirmation bias. It influences my decision-making because I tend to ignore information that may disprove my thoughts."
   ]
  },
  {
   "cell_type": "markdown",
   "id": "e0144af8",
   "metadata": {},
   "source": [
    "### How do you think you could overcome your biases? "
   ]
  },
  {
   "attachments": {},
   "cell_type": "markdown",
   "id": "15417493",
   "metadata": {},
   "source": [
    "Practicing and reminding myself to be open-minded and accepting."
   ]
  },
  {
   "cell_type": "markdown",
   "id": "c9b737e8",
   "metadata": {},
   "source": [
    "### What is one example of how unethical data analysis impacted a group of people? Avoid repeating the lecture example. "
   ]
  },
  {
   "attachments": {},
   "cell_type": "markdown",
   "id": "2eaf778d",
   "metadata": {},
   "source": [
    "A boss chooses a person based on his or her face shape because they think that based on their previous experience hiring people, people of a certain face shape perform better than others."
   ]
  },
  {
   "cell_type": "markdown",
   "id": "04db6f66",
   "metadata": {},
   "source": [
    "## Section 2: Data Cleaning"
   ]
  },
  {
   "cell_type": "markdown",
   "id": "f9e9a162",
   "metadata": {},
   "source": [
    "### Pick out a dataset that you are interested in working with on [Kaggle](https://www.kaggle.com/datasets)! You should continue working with it in future homeworks so that you have a comprehensive data science project by the end of the semester so pick a good one.\n",
    "### Download it and add it to the same folder that you are working in so that you are able to load it easily. You can refer to the [slides](https://docs.google.com/presentation/d/1UPj0F_I0CYoiUrbuSR9sYq50FEh8-RDG4usnTFaUBJI/edit#slide=id.g1c0cc4ea8d8_0_1369) that we used for onboarding for any help. ###"
   ]
  },
  {
   "cell_type": "code",
   "execution_count": 13,
   "id": "5b22ef85",
   "metadata": {},
   "outputs": [
    {
     "data": {
      "text/html": [
       "<div>\n",
       "<style scoped>\n",
       "    .dataframe tbody tr th:only-of-type {\n",
       "        vertical-align: middle;\n",
       "    }\n",
       "\n",
       "    .dataframe tbody tr th {\n",
       "        vertical-align: top;\n",
       "    }\n",
       "\n",
       "    .dataframe thead th {\n",
       "        text-align: right;\n",
       "    }\n",
       "</style>\n",
       "<table border=\"1\" class=\"dataframe\">\n",
       "  <thead>\n",
       "    <tr style=\"text-align: right;\">\n",
       "      <th></th>\n",
       "      <th>deal</th>\n",
       "      <th>description</th>\n",
       "      <th>episode</th>\n",
       "      <th>category</th>\n",
       "      <th>entrepreneurs</th>\n",
       "      <th>location</th>\n",
       "      <th>website</th>\n",
       "      <th>askedfor</th>\n",
       "      <th>exchangeforstake</th>\n",
       "      <th>valuation</th>\n",
       "      <th>season</th>\n",
       "      <th>shark1</th>\n",
       "      <th>shark2</th>\n",
       "      <th>shark3</th>\n",
       "      <th>shark4</th>\n",
       "      <th>shark5</th>\n",
       "      <th>title</th>\n",
       "      <th>episode_season</th>\n",
       "      <th>multiple_entreprenuers</th>\n",
       "    </tr>\n",
       "  </thead>\n",
       "  <tbody>\n",
       "    <tr>\n",
       "      <th>0</th>\n",
       "      <td>False</td>\n",
       "      <td>Bluetooth device implant for your ear.</td>\n",
       "      <td>1</td>\n",
       "      <td>Novelties</td>\n",
       "      <td>Darrin Johnson</td>\n",
       "      <td>St. Paul, MN</td>\n",
       "      <td>NaN</td>\n",
       "      <td>1000000</td>\n",
       "      <td>15</td>\n",
       "      <td>6666667</td>\n",
       "      <td>1</td>\n",
       "      <td>Barbara Corcoran</td>\n",
       "      <td>Robert Herjavec</td>\n",
       "      <td>Kevin O'Leary</td>\n",
       "      <td>Daymond John</td>\n",
       "      <td>Kevin Harrington</td>\n",
       "      <td>Ionic Ear</td>\n",
       "      <td>1-1</td>\n",
       "      <td>False</td>\n",
       "    </tr>\n",
       "    <tr>\n",
       "      <th>1</th>\n",
       "      <td>True</td>\n",
       "      <td>Retail and wholesale pie factory with two reta...</td>\n",
       "      <td>1</td>\n",
       "      <td>Specialty Food</td>\n",
       "      <td>Tod Wilson</td>\n",
       "      <td>Somerset, NJ</td>\n",
       "      <td>http://whybake.com/</td>\n",
       "      <td>460000</td>\n",
       "      <td>10</td>\n",
       "      <td>4600000</td>\n",
       "      <td>1</td>\n",
       "      <td>Barbara Corcoran</td>\n",
       "      <td>Robert Herjavec</td>\n",
       "      <td>Kevin O'Leary</td>\n",
       "      <td>Daymond John</td>\n",
       "      <td>Kevin Harrington</td>\n",
       "      <td>Mr. Tod's Pie Factory</td>\n",
       "      <td>1-1</td>\n",
       "      <td>False</td>\n",
       "    </tr>\n",
       "    <tr>\n",
       "      <th>2</th>\n",
       "      <td>True</td>\n",
       "      <td>Ava the Elephant is a godsend for frazzled par...</td>\n",
       "      <td>1</td>\n",
       "      <td>Baby and Child Care</td>\n",
       "      <td>Tiffany Krumins</td>\n",
       "      <td>Atlanta, GA</td>\n",
       "      <td>http://www.avatheelephant.com/</td>\n",
       "      <td>50000</td>\n",
       "      <td>15</td>\n",
       "      <td>333333</td>\n",
       "      <td>1</td>\n",
       "      <td>Barbara Corcoran</td>\n",
       "      <td>Robert Herjavec</td>\n",
       "      <td>Kevin O'Leary</td>\n",
       "      <td>Daymond John</td>\n",
       "      <td>Kevin Harrington</td>\n",
       "      <td>Ava the Elephant</td>\n",
       "      <td>1-1</td>\n",
       "      <td>False</td>\n",
       "    </tr>\n",
       "    <tr>\n",
       "      <th>3</th>\n",
       "      <td>False</td>\n",
       "      <td>Organizing, packing, and moving services deliv...</td>\n",
       "      <td>1</td>\n",
       "      <td>Consumer Services</td>\n",
       "      <td>Nick Friedman, Omar Soliman</td>\n",
       "      <td>Tampa, FL</td>\n",
       "      <td>http://collegehunkshaulingjunk.com/</td>\n",
       "      <td>250000</td>\n",
       "      <td>25</td>\n",
       "      <td>1000000</td>\n",
       "      <td>1</td>\n",
       "      <td>Barbara Corcoran</td>\n",
       "      <td>Robert Herjavec</td>\n",
       "      <td>Kevin O'Leary</td>\n",
       "      <td>Daymond John</td>\n",
       "      <td>Kevin Harrington</td>\n",
       "      <td>College Foxes Packing Boxes</td>\n",
       "      <td>1-1</td>\n",
       "      <td>False</td>\n",
       "    </tr>\n",
       "    <tr>\n",
       "      <th>4</th>\n",
       "      <td>False</td>\n",
       "      <td>Interactive media centers for healthcare waiti...</td>\n",
       "      <td>1</td>\n",
       "      <td>Consumer Services</td>\n",
       "      <td>Kevin Flannery</td>\n",
       "      <td>Cary, NC</td>\n",
       "      <td>http://www.wispots.com/</td>\n",
       "      <td>1200000</td>\n",
       "      <td>10</td>\n",
       "      <td>12000000</td>\n",
       "      <td>1</td>\n",
       "      <td>Barbara Corcoran</td>\n",
       "      <td>Robert Herjavec</td>\n",
       "      <td>Kevin O'Leary</td>\n",
       "      <td>Daymond John</td>\n",
       "      <td>Kevin Harrington</td>\n",
       "      <td>Wispots</td>\n",
       "      <td>1-1</td>\n",
       "      <td>False</td>\n",
       "    </tr>\n",
       "  </tbody>\n",
       "</table>\n",
       "</div>"
      ],
      "text/plain": [
       "    deal                                        description  episode  \\\n",
       "0  False             Bluetooth device implant for your ear.        1   \n",
       "1   True  Retail and wholesale pie factory with two reta...        1   \n",
       "2   True  Ava the Elephant is a godsend for frazzled par...        1   \n",
       "3  False  Organizing, packing, and moving services deliv...        1   \n",
       "4  False  Interactive media centers for healthcare waiti...        1   \n",
       "\n",
       "              category                entrepreneurs      location  \\\n",
       "0            Novelties               Darrin Johnson  St. Paul, MN   \n",
       "1       Specialty Food                   Tod Wilson  Somerset, NJ   \n",
       "2  Baby and Child Care              Tiffany Krumins   Atlanta, GA   \n",
       "3    Consumer Services  Nick Friedman, Omar Soliman     Tampa, FL   \n",
       "4    Consumer Services               Kevin Flannery      Cary, NC   \n",
       "\n",
       "                               website  askedfor  exchangeforstake  valuation  \\\n",
       "0                                  NaN   1000000                15    6666667   \n",
       "1                  http://whybake.com/    460000                10    4600000   \n",
       "2       http://www.avatheelephant.com/     50000                15     333333   \n",
       "3  http://collegehunkshaulingjunk.com/    250000                25    1000000   \n",
       "4              http://www.wispots.com/   1200000                10   12000000   \n",
       "\n",
       "   season            shark1           shark2         shark3        shark4  \\\n",
       "0       1  Barbara Corcoran  Robert Herjavec  Kevin O'Leary  Daymond John   \n",
       "1       1  Barbara Corcoran  Robert Herjavec  Kevin O'Leary  Daymond John   \n",
       "2       1  Barbara Corcoran  Robert Herjavec  Kevin O'Leary  Daymond John   \n",
       "3       1  Barbara Corcoran  Robert Herjavec  Kevin O'Leary  Daymond John   \n",
       "4       1  Barbara Corcoran  Robert Herjavec  Kevin O'Leary  Daymond John   \n",
       "\n",
       "             shark5                        title episode_season  \\\n",
       "0  Kevin Harrington                    Ionic Ear            1-1   \n",
       "1  Kevin Harrington        Mr. Tod's Pie Factory            1-1   \n",
       "2  Kevin Harrington             Ava the Elephant            1-1   \n",
       "3  Kevin Harrington  College Foxes Packing Boxes            1-1   \n",
       "4  Kevin Harrington                      Wispots            1-1   \n",
       "\n",
       "   multiple_entreprenuers  \n",
       "0                   False  \n",
       "1                   False  \n",
       "2                   False  \n",
       "3                   False  \n",
       "4                   False  "
      ]
     },
     "execution_count": 13,
     "metadata": {},
     "output_type": "execute_result"
    }
   ],
   "source": [
    "# load your dataset here, df is short for DataFrame. \n",
    "# E.g.You can use pd.read_csv() for csv files. \n",
    "df = pd.read_csv(\"./shark_tank_companies.csv\")\n",
    "df.head()"
   ]
  },
  {
   "cell_type": "markdown",
   "id": "e0d173d8",
   "metadata": {},
   "source": [
    "####  Example"
   ]
  },
  {
   "cell_type": "code",
   "execution_count": 5,
   "id": "b17f27fb",
   "metadata": {},
   "outputs": [
    {
     "data": {
      "text/html": [
       "<div>\n",
       "<style scoped>\n",
       "    .dataframe tbody tr th:only-of-type {\n",
       "        vertical-align: middle;\n",
       "    }\n",
       "\n",
       "    .dataframe tbody tr th {\n",
       "        vertical-align: top;\n",
       "    }\n",
       "\n",
       "    .dataframe thead th {\n",
       "        text-align: right;\n",
       "    }\n",
       "</style>\n",
       "<table border=\"1\" class=\"dataframe\">\n",
       "  <thead>\n",
       "    <tr style=\"text-align: right;\">\n",
       "      <th></th>\n",
       "      <th>Year</th>\n",
       "      <th>Candidate</th>\n",
       "      <th>Party</th>\n",
       "      <th>Popular vote</th>\n",
       "      <th>Result</th>\n",
       "      <th>%</th>\n",
       "    </tr>\n",
       "  </thead>\n",
       "  <tbody>\n",
       "    <tr>\n",
       "      <th>0</th>\n",
       "      <td>1824</td>\n",
       "      <td>Andrew Jackson</td>\n",
       "      <td>Democratic-Republican</td>\n",
       "      <td>151271</td>\n",
       "      <td>loss</td>\n",
       "      <td>57.210122</td>\n",
       "    </tr>\n",
       "    <tr>\n",
       "      <th>1</th>\n",
       "      <td>1824</td>\n",
       "      <td>John Quincy Adams</td>\n",
       "      <td>Democratic-Republican</td>\n",
       "      <td>113142</td>\n",
       "      <td>win</td>\n",
       "      <td>42.789878</td>\n",
       "    </tr>\n",
       "    <tr>\n",
       "      <th>2</th>\n",
       "      <td>1828</td>\n",
       "      <td>Andrew Jackson</td>\n",
       "      <td>Democratic</td>\n",
       "      <td>642806</td>\n",
       "      <td>win</td>\n",
       "      <td>56.203927</td>\n",
       "    </tr>\n",
       "    <tr>\n",
       "      <th>3</th>\n",
       "      <td>1828</td>\n",
       "      <td>John Quincy Adams</td>\n",
       "      <td>National Republican</td>\n",
       "      <td>500897</td>\n",
       "      <td>loss</td>\n",
       "      <td>43.796073</td>\n",
       "    </tr>\n",
       "    <tr>\n",
       "      <th>4</th>\n",
       "      <td>1832</td>\n",
       "      <td>Andrew Jackson</td>\n",
       "      <td>Democratic</td>\n",
       "      <td>702735</td>\n",
       "      <td>win</td>\n",
       "      <td>54.574789</td>\n",
       "    </tr>\n",
       "  </tbody>\n",
       "</table>\n",
       "</div>"
      ],
      "text/plain": [
       "   Year          Candidate                  Party  Popular vote Result  \\\n",
       "0  1824     Andrew Jackson  Democratic-Republican        151271   loss   \n",
       "1  1824  John Quincy Adams  Democratic-Republican        113142    win   \n",
       "2  1828     Andrew Jackson             Democratic        642806    win   \n",
       "3  1828  John Quincy Adams    National Republican        500897   loss   \n",
       "4  1832     Andrew Jackson             Democratic        702735    win   \n",
       "\n",
       "           %  \n",
       "0  57.210122  \n",
       "1  42.789878  \n",
       "2  56.203927  \n",
       "3  43.796073  \n",
       "4  54.574789  "
      ]
     },
     "execution_count": 5,
     "metadata": {},
     "output_type": "execute_result"
    }
   ],
   "source": [
    "elections = pd.read_csv(\"elections.csv\")\n",
    "elections.head(5)"
   ]
  },
  {
   "cell_type": "markdown",
   "id": "9593b0c3",
   "metadata": {},
   "source": [
    "### Now let's do some data cleaning! Here are a list of questions that you should think through and answer while looking at your data. If your data is from kaggle, it might already be really clean, but practise answering these questions. \n",
    "\n",
    "### *At this point, just answer these questions and examine your data but don't attempt to clean it yet* ###\n",
    "\n",
    "- Does your data contain unrealistic or incorrect values?\n",
    "    - Dates in the future\n",
    "    - Locations that don’t exist\n",
    "    - Negative counts\n",
    "- Does your data violate obvious dependencies?\n",
    "    - Age and birthday not matching\n",
    "- Is the data coherent and consistent?\n",
    "    - Misspellings and inconsistent labels\n",
    "    - Was the data entered by hand?\n",
    "- Are there signs of data falsification?\n",
    "    - Repeated names, fake looking email addresses, uncommon names or fields\n",
    "- Do we need to convert any of the variable types in order to prepare for modelling?\n",
    "    - Qualitative variables that you might want to convert to numbers\n",
    "- Any other interesting observations?"
   ]
  },
  {
   "cell_type": "code",
   "execution_count": 9,
   "id": "57ca72ee",
   "metadata": {},
   "outputs": [],
   "source": [
    "### Write your answers to each of the questions here \n",
    "\n",
    "# Q1: Does your data contain unrealistic or incorrect values?\n",
    "\n",
    "# No\n",
    "\n",
    "# Q2: Does your data violate obvious dependencies?\n",
    "\n",
    "# No\n",
    "\n",
    "# Q3: Is the data coherent and consistent?\n",
    "\n",
    "# No\n",
    "\n",
    "# Q4: Are there signs of data falsification?\n",
    "\n",
    "# No\n",
    "\n",
    "# Q5: Do we need to convert any of the variable types in order to prepare for modelling?\n",
    "\n",
    "# Convert certain columns such as shark names and descriptions to strings.\n",
    "\n",
    "# Q6: Any other interesting observations?\n",
    "\n",
    "# NaN values for websites."
   ]
  },
  {
   "cell_type": "code",
   "execution_count": 10,
   "id": "0547a6e3",
   "metadata": {},
   "outputs": [
    {
     "data": {
      "text/html": [
       "<div>\n",
       "<style scoped>\n",
       "    .dataframe tbody tr th:only-of-type {\n",
       "        vertical-align: middle;\n",
       "    }\n",
       "\n",
       "    .dataframe tbody tr th {\n",
       "        vertical-align: top;\n",
       "    }\n",
       "\n",
       "    .dataframe thead th {\n",
       "        text-align: right;\n",
       "    }\n",
       "</style>\n",
       "<table border=\"1\" class=\"dataframe\">\n",
       "  <thead>\n",
       "    <tr style=\"text-align: right;\">\n",
       "      <th></th>\n",
       "      <th>Year</th>\n",
       "      <th>Popular vote</th>\n",
       "      <th>%</th>\n",
       "    </tr>\n",
       "  </thead>\n",
       "  <tbody>\n",
       "    <tr>\n",
       "      <th>count</th>\n",
       "      <td>182.000000</td>\n",
       "      <td>1.820000e+02</td>\n",
       "      <td>182.000000</td>\n",
       "    </tr>\n",
       "    <tr>\n",
       "      <th>mean</th>\n",
       "      <td>1934.087912</td>\n",
       "      <td>1.235364e+07</td>\n",
       "      <td>27.470350</td>\n",
       "    </tr>\n",
       "    <tr>\n",
       "      <th>std</th>\n",
       "      <td>57.048908</td>\n",
       "      <td>1.907715e+07</td>\n",
       "      <td>22.968034</td>\n",
       "    </tr>\n",
       "    <tr>\n",
       "      <th>min</th>\n",
       "      <td>1824.000000</td>\n",
       "      <td>1.007150e+05</td>\n",
       "      <td>0.098088</td>\n",
       "    </tr>\n",
       "    <tr>\n",
       "      <th>25%</th>\n",
       "      <td>1889.000000</td>\n",
       "      <td>3.876395e+05</td>\n",
       "      <td>1.219996</td>\n",
       "    </tr>\n",
       "    <tr>\n",
       "      <th>50%</th>\n",
       "      <td>1936.000000</td>\n",
       "      <td>1.709375e+06</td>\n",
       "      <td>37.677893</td>\n",
       "    </tr>\n",
       "    <tr>\n",
       "      <th>75%</th>\n",
       "      <td>1988.000000</td>\n",
       "      <td>1.897775e+07</td>\n",
       "      <td>48.354977</td>\n",
       "    </tr>\n",
       "    <tr>\n",
       "      <th>max</th>\n",
       "      <td>2020.000000</td>\n",
       "      <td>8.126892e+07</td>\n",
       "      <td>61.344703</td>\n",
       "    </tr>\n",
       "  </tbody>\n",
       "</table>\n",
       "</div>"
      ],
      "text/plain": [
       "              Year  Popular vote           %\n",
       "count   182.000000  1.820000e+02  182.000000\n",
       "mean   1934.087912  1.235364e+07   27.470350\n",
       "std      57.048908  1.907715e+07   22.968034\n",
       "min    1824.000000  1.007150e+05    0.098088\n",
       "25%    1889.000000  3.876395e+05    1.219996\n",
       "50%    1936.000000  1.709375e+06   37.677893\n",
       "75%    1988.000000  1.897775e+07   48.354977\n",
       "max    2020.000000  8.126892e+07   61.344703"
      ]
     },
     "execution_count": 10,
     "metadata": {},
     "output_type": "execute_result"
    }
   ],
   "source": [
    "# Any exploratory code here\n",
    "# You can refer to the pandas section of the slides to do this\n",
    "elections.describe()"
   ]
  },
  {
   "cell_type": "markdown",
   "id": "511e6be4",
   "metadata": {},
   "source": [
    "### More factors to consider\n",
    "\n",
    "Here is a list of a few more questions to consider while data cleaning! Answer them to get a deeper understanding of your data.\n",
    "\n",
    "- Do any of the keys in each table reference each other?\n",
    "    - Primary keys are the column or set of columns in a table that determine the values of the remaining columns\n",
    "    - Foreign keys are the column or sets of columns that reference primary keys in other tables\n",
    "    - Can we merge them tables?\n",
    "- What does each field specify? \n",
    "    - What is the variable type? \n",
    "    - Qualitative(Ordinal and Nominal), Quantitative (Continuous and discrete)\n",
    "    - String, integer, float, list, array etc.\n",
    "- Granularity? What does each record represent? Are there aggregations?\n",
    "- Where was this data collected from? What types of questions were asked to gather this data? How representative is it? When was it collected?\n",
    "- Truncated data \n",
    "    - Check the platform that you are working on, does it limit your data size?\n",
    "- Time zone inconsistencies\n",
    "    - Convert to common timezone\n",
    "- Duplicated records or fields -> eliminate carefully\n",
    "- Spelling errors\n",
    "- Units not specified or inconsistent\n",
    "- Missing Data\n",
    "- Redundant data\n",
    "- Simplify \n",
    "    - Take one column\n",
    "    - Combine multiple columns  into one\n",
    "- Aggregation\n",
    "    - groupby\n"
   ]
  },
  {
   "cell_type": "code",
   "execution_count": 11,
   "id": "ff366816",
   "metadata": {},
   "outputs": [],
   "source": [
    "### Your answers to each of the questions/ observations about each factor here \n",
    "\n",
    "# Q1: Do any of the keys in each table reference each other?\n",
    "\n",
    "# No"
   ]
  },
  {
   "cell_type": "code",
   "execution_count": 12,
   "id": "cc531999",
   "metadata": {},
   "outputs": [],
   "source": [
    "# Any exploratory code here. \n",
    "# You can refer to the pandas section of the slides to do this"
   ]
  },
  {
   "cell_type": "markdown",
   "id": "ed52565a",
   "metadata": {},
   "source": [
    "## Addressing Missing Data/ Default Values"
   ]
  },
  {
   "cell_type": "markdown",
   "id": "a1f7ff91",
   "metadata": {},
   "source": [
    "### As you cleaned your data, you may have observed missing data/ default values. Decide what to do with these values and explain your decision-making process.\n",
    "\n",
    "Here are some methods to deal with missing values:\n",
    "- Drop records with missing values\n",
    "    - Check for biases induced by missing values - there may be trends in why something is missing\n",
    "    - This requires domain knowledge to check for induced bias\n",
    "- Imputation: Inferring missing values\n",
    "    - Replace with average value (closest related subgroup mean)\n",
    "    - Replace with a random value from the closest subgroup(Hot deck imputation) \n",
    "- Numerical: \n",
    "    - mean, mode, median\n",
    "- Categorical\n",
    "    - Mode, new category\n",
    "- Directly model missing values during future analysis"
   ]
  },
  {
   "cell_type": "code",
   "execution_count": 19,
   "id": "81105df3",
   "metadata": {},
   "outputs": [],
   "source": [
    "#Any preliminary cleaning necessary to start dealing with missing values\n",
    "df = df.dropna()"
   ]
  },
  {
   "cell_type": "code",
   "execution_count": 16,
   "id": "a1220e67",
   "metadata": {},
   "outputs": [
    {
     "data": {
      "text/html": [
       "<div>\n",
       "<style scoped>\n",
       "    .dataframe tbody tr th:only-of-type {\n",
       "        vertical-align: middle;\n",
       "    }\n",
       "\n",
       "    .dataframe tbody tr th {\n",
       "        vertical-align: top;\n",
       "    }\n",
       "\n",
       "    .dataframe thead th {\n",
       "        text-align: right;\n",
       "    }\n",
       "</style>\n",
       "<table border=\"1\" class=\"dataframe\">\n",
       "  <thead>\n",
       "    <tr style=\"text-align: right;\">\n",
       "      <th></th>\n",
       "      <th>Year</th>\n",
       "      <th>Candidate</th>\n",
       "      <th>Party</th>\n",
       "      <th>Popular vote</th>\n",
       "      <th>Result</th>\n",
       "      <th>%</th>\n",
       "    </tr>\n",
       "  </thead>\n",
       "  <tbody>\n",
       "    <tr>\n",
       "      <th>0</th>\n",
       "      <td>1824</td>\n",
       "      <td>Andrew Jackson</td>\n",
       "      <td>Democratic-Republican</td>\n",
       "      <td>151271</td>\n",
       "      <td>loss</td>\n",
       "      <td>57.210122</td>\n",
       "    </tr>\n",
       "    <tr>\n",
       "      <th>1</th>\n",
       "      <td>1824</td>\n",
       "      <td>John Quincy Adams</td>\n",
       "      <td>Democratic-Republican</td>\n",
       "      <td>113142</td>\n",
       "      <td>win</td>\n",
       "      <td>42.789878</td>\n",
       "    </tr>\n",
       "    <tr>\n",
       "      <th>2</th>\n",
       "      <td>1828</td>\n",
       "      <td>Andrew Jackson</td>\n",
       "      <td>Democratic</td>\n",
       "      <td>642806</td>\n",
       "      <td>win</td>\n",
       "      <td>56.203927</td>\n",
       "    </tr>\n",
       "    <tr>\n",
       "      <th>3</th>\n",
       "      <td>1828</td>\n",
       "      <td>John Quincy Adams</td>\n",
       "      <td>National Republican</td>\n",
       "      <td>500897</td>\n",
       "      <td>loss</td>\n",
       "      <td>43.796073</td>\n",
       "    </tr>\n",
       "    <tr>\n",
       "      <th>4</th>\n",
       "      <td>1832</td>\n",
       "      <td>Andrew Jackson</td>\n",
       "      <td>Democratic</td>\n",
       "      <td>702735</td>\n",
       "      <td>win</td>\n",
       "      <td>54.574789</td>\n",
       "    </tr>\n",
       "  </tbody>\n",
       "</table>\n",
       "</div>"
      ],
      "text/plain": [
       "   Year          Candidate                  Party  Popular vote Result  \\\n",
       "0  1824     Andrew Jackson  Democratic-Republican        151271   loss   \n",
       "1  1824  John Quincy Adams  Democratic-Republican        113142    win   \n",
       "2  1828     Andrew Jackson             Democratic        642806    win   \n",
       "3  1828  John Quincy Adams    National Republican        500897   loss   \n",
       "4  1832     Andrew Jackson             Democratic        702735    win   \n",
       "\n",
       "           %  \n",
       "0  57.210122  \n",
       "1  42.789878  \n",
       "2  56.203927  \n",
       "3  43.796073  \n",
       "4  54.574789  "
      ]
     },
     "execution_count": 16,
     "metadata": {},
     "output_type": "execute_result"
    }
   ],
   "source": [
    "#Code addressing missing values here e.g. df.dropna()\n",
    "elections.dropna().head(5) #remove this line, this is just an example"
   ]
  },
  {
   "cell_type": "code",
   "execution_count": 13,
   "id": "adffe4bb",
   "metadata": {},
   "outputs": [],
   "source": [
    "#Explain what types of missing values you found and the decisions you made in addressing them\n",
    "Dropped entries without websites."
   ]
  },
  {
   "cell_type": "markdown",
   "id": "0570266a",
   "metadata": {},
   "source": [
    "## Handling outliers"
   ]
  },
  {
   "cell_type": "markdown",
   "id": "6bff8903",
   "metadata": {},
   "source": [
    "### Now let's handle any outliers. Same process as before!\n",
    "\n",
    "Here are some methods to deal with handling outliers:\n",
    "- Drop records with outliers\n",
    "    - Check for biases induced by missing values - there may be trends in why something is missing\n",
    "    - This requires domain knowledge to check for induced bias\n",
    "- Replace, as with Inferring missing values\n",
    "    - Typically with min or max\n",
    "- Binning\n",
    "    - E.g. greater than 5"
   ]
  },
  {
   "cell_type": "code",
   "execution_count": 14,
   "id": "24a201fd",
   "metadata": {},
   "outputs": [],
   "source": [
    "#Code addressing outliers here\n",
    "# No outliers!"
   ]
  },
  {
   "cell_type": "code",
   "execution_count": 15,
   "id": "1d2fae88",
   "metadata": {},
   "outputs": [],
   "source": [
    "#Explain what types of outliers you found and the decisions you made in addressing them"
   ]
  },
  {
   "cell_type": "markdown",
   "id": "401fa136",
   "metadata": {},
   "source": [
    "## Let's clean!"
   ]
  },
  {
   "cell_type": "markdown",
   "id": "a60c1bbf",
   "metadata": {},
   "source": [
    "### Now that we have a much deeper understanding of our data and have dealt with a few preliminary issues, clean up the data so that it is useful and accurate!  "
   ]
  },
  {
   "cell_type": "code",
   "execution_count": 20,
   "id": "896e2113",
   "metadata": {},
   "outputs": [],
   "source": [
    "### Your code here\n",
    "df = df.dropna()"
   ]
  },
  {
   "cell_type": "markdown",
   "id": "55179527",
   "metadata": {},
   "source": [
    "## Section 3: EDA "
   ]
  },
  {
   "cell_type": "markdown",
   "id": "874c1a52",
   "metadata": {},
   "source": [
    "### Study the data and observe any potential trends/ consider models that you might be able to implement. Study the relationships between the different columns and see if you can find any insights. List at least 2 potential project ideas."
   ]
  },
  {
   "cell_type": "code",
   "execution_count": 17,
   "id": "e7c7ee69",
   "metadata": {},
   "outputs": [],
   "source": [
    "# Exploratory code here\n",
    "\n",
    "#e.g. df.corr() gives you the correlation coefficients between columns"
   ]
  },
  {
   "cell_type": "markdown",
   "id": "d06757b0",
   "metadata": {},
   "source": [
    "# Section 4: Visualizations\n",
    "\n",
    "### This is also part of EDA! The whole process is rather cyclical. For this part, make 3 visualizations and describe what you see. \n",
    "\n",
    "### Then, make 2 out of 3 these visualizations.\n",
    "### 1. Heat Map\n",
    "### 2. KDE Plot\n",
    "### 3. Box Plot\n",
    "\n",
    "### So in total, you should have made 5 visualizations."
   ]
  },
  {
   "cell_type": "code",
   "execution_count": 26,
   "id": "e038af96",
   "metadata": {},
   "outputs": [
    {
     "data": {
      "text/plain": [
       "<AxesSubplot:>"
      ]
     },
     "execution_count": 26,
     "metadata": {},
     "output_type": "execute_result"
    },
    {
     "data": {
      "image/png": "[encoded data removed]",
      "text/plain": [
       "<Figure size 432x288 with 2 Axes>"
      ]
     },
     "metadata": {
      "needs_background": "light"
     },
     "output_type": "display_data"
    }
   ],
   "source": [
    "#Visualization 1\n",
    "\n",
    "hmap_data = df[[\"exchangeforstake\", \"valuation\", \"askedfor\"]]\n",
    "sns.heatmap(hmap_data)\n",
    "\n",
    "#Your observations"
   ]
  },
  {
   "cell_type": "code",
   "execution_count": 27,
   "id": "f3a1d157",
   "metadata": {},
   "outputs": [
    {
     "data": {
      "text/plain": [
       "<AxesSubplot:xlabel='exchangeforstake', ylabel='valuation'>"
      ]
     },
     "execution_count": 27,
     "metadata": {},
     "output_type": "execute_result"
    },
    {
     "data": {
      "image/png": "[encoded data removed]",
      "text/plain": [
       "<Figure size 432x288 with 1 Axes>"
      ]
     },
     "metadata": {
      "needs_background": "light"
     },
     "output_type": "display_data"
    }
   ],
   "source": [
    "#Visualization 2\n",
    "\n",
    "sns.histplot(data=df, x=\"exchangeforstake\", y=\"valuation\")\n",
    "\n",
    "#Your observations"
   ]
  },
  {
   "cell_type": "code",
   "execution_count": 28,
   "id": "4474d277",
   "metadata": {},
   "outputs": [
    {
     "data": {
      "text/plain": [
       "<AxesSubplot:xlabel='exchangeforstake', ylabel='valuation'>"
      ]
     },
     "execution_count": 28,
     "metadata": {},
     "output_type": "execute_result"
    },
    {
     "data": {
      "image/png": "[encoded data removed]",
      "text/plain": [
       "<Figure size 432x288 with 1 Axes>"
      ]
     },
     "metadata": {
      "needs_background": "light"
     },
     "output_type": "display_data"
    }
   ],
   "source": [
    "#Visualization 3\n",
    "\n",
    "sns.kdeplot(data=df, x=\"exchangeforstake\", y=\"valuation\")\n",
    "\n",
    "#Your observations"
   ]
  },
  {
   "cell_type": "code",
   "execution_count": 32,
   "id": "09fab91e",
   "metadata": {},
   "outputs": [
    {
     "data": {
      "text/plain": [
       "<seaborn.axisgrid.FacetGrid at 0x16bd8cb50>"
      ]
     },
     "execution_count": 32,
     "metadata": {},
     "output_type": "execute_result"
    },
    {
     "data": {
      "image/png": "[encoded data removed]",
      "text/plain": [
       "<Figure size 360x360 with 1 Axes>"
      ]
     },
     "metadata": {
      "needs_background": "light"
     },
     "output_type": "display_data"
    }
   ],
   "source": [
    "#Visualization 4\n",
    "\n",
    "sns.lmplot(data=df, x=\"askedfor\", y=\"valuation\")\n",
    "\n",
    "#Your observations"
   ]
  },
  {
   "cell_type": "code",
   "execution_count": 22,
   "id": "e292bd43",
   "metadata": {},
   "outputs": [
    {
     "data": {
      "text/plain": [
       "Ellipsis"
      ]
     },
     "execution_count": 22,
     "metadata": {},
     "output_type": "execute_result"
    }
   ],
   "source": [
    "#Visualization 5\n",
    "\n",
    "...\n",
    "\n",
    "#Your observations"
   ]
  },
  {
   "cell_type": "markdown",
   "id": "e151a17a",
   "metadata": {},
   "source": [
    "### Which visualization is the best for your dataset and why?"
   ]
  },
  {
   "cell_type": "code",
   "execution_count": 33,
   "id": "8ff40fd6",
   "metadata": {},
   "outputs": [],
   "source": [
    "# KDE plot and line plot. They show useful statistics and help non-technical viewers draw conclusions such as the values that are most common or the general relation between certain variables."
   ]
  },
  {
   "cell_type": "markdown",
   "id": "3a8f9ef1",
   "metadata": {},
   "source": [
    "# Good job!\n",
    "\n",
    "### As a quick wrap-up, think about how your biases might have affected your judgement and if there is anything you want to work on. \n",
    "\n",
    "### As you can see, working with a dataset outside of class is much less structured. However, with practice, you will be become much sharper and efficient at wrangling data. Good luck with the next project!"
   ]
  },
  {
   "cell_type": "code",
   "execution_count": 23,
   "id": "384096cc",
   "metadata": {},
   "outputs": [],
   "source": [
    "#Quick reflection#"
   ]
  },
  {
   "cell_type": "markdown",
   "id": "a36e4502",
   "metadata": {},
   "source": [
    "### Fantastic job ~ Remember to push all your changes your GitHub repository and submit on Gradescope.\n",
    "### Thank you for your time :)\n",
    "### That's all for this homework! "
   ]
  }
 ],
 "metadata": {
  "kernelspec": {
   "display_name": "Python 3 (ipykernel)",
   "language": "python",
   "name": "python3"
  },
  "language_info": {
   "codemirror_mode": {
    "name": "ipython",
    "version": 3
   },
   "file_extension": ".py",
   "mimetype": "text/x-python",
   "name": "python",
   "nbconvert_exporter": "python",
   "pygments_lexer": "ipython3",
   "version": "3.9.12"
  }
 },
 "nbformat": 4,
 "nbformat_minor": 5
}
